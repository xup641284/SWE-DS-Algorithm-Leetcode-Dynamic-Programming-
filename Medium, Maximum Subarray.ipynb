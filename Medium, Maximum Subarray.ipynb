{
 "cells": [
  {
   "cell_type": "markdown",
   "metadata": {},
   "source": [
    "# Dynamic programming"
   ]
  },
  {
   "cell_type": "code",
   "execution_count": 1,
   "metadata": {},
   "outputs": [],
   "source": [
    "def maxSubArray(nums):\n",
    "    # Initialize a dynamic programming (DP) array to store the maximum sum at each index\n",
    "    dp = [0] * len(nums)\n",
    "    dp[0] = nums[0]  # Initialize the first element of the DP array with the first element of the nums array\n",
    "\n",
    "    for i in range(1, len(nums)):\n",
    "        # Calculate the maximum sum at index i by taking the maximum of either the current number alone\n",
    "        # or the current number combined with the maximum sum up to the previous index.\n",
    "        dp[i] = max(nums[i], nums[i] + dp[i - 1])\n",
    "\n",
    "    # The maximum subarray sum is the maximum value in the DP array.\n",
    "    return max(dp)\n"
   ]
  },
  {
   "cell_type": "markdown",
   "metadata": {},
   "source": [
    "# Kadane"
   ]
  },
  {
   "cell_type": "code",
   "execution_count": 2,
   "metadata": {},
   "outputs": [
    {
     "name": "stdout",
     "output_type": "stream",
     "text": [
      "6\n"
     ]
    }
   ],
   "source": [
    "def max_subarray(nums):\n",
    "    max_sum = float('-inf')  # Initialize the maximum sum to negative infinity\n",
    "    current_sum = 0  # Initialize the current sum to 0\n",
    "\n",
    "    for num in nums:\n",
    "        # Calculate the current sum by adding the current number to it\n",
    "        current_sum += num\n",
    "        # Update the maximum sum if the current sum is greater\n",
    "        max_sum = max(max_sum, current_sum)\n",
    "        # If the current sum becomes negative, reset it to 0\n",
    "        if current_sum < 0:\n",
    "            current_sum = 0\n",
    "\n",
    "    return max_sum\n",
    "\n",
    "# Example usage:\n",
    "nums = [-2, 1, -3, 4, -1, 2, 1, -5, 4]\n",
    "print(max_subarray(nums))\n"
   ]
  },
  {
   "cell_type": "code",
   "execution_count": 3,
   "metadata": {},
   "outputs": [
    {
     "name": "stdout",
     "output_type": "stream",
     "text": [
      "6\n"
     ]
    }
   ],
   "source": [
    "def max_subarray(nums):\n",
    "    max_sum = nums[0]\n",
    "    current_sum = nums[0]\n",
    "\n",
    "    left = 0\n",
    "    for right in range(1, len(nums)):\n",
    "        current_sum = max(nums[right], current_sum + nums[right])\n",
    "        max_sum = max(max_sum, current_sum)\n",
    "\n",
    "        # Check if the current sum becomes negative, then reset left pointer\n",
    "        if current_sum < 0:\n",
    "            left = right + 1\n",
    "\n",
    "    return max_sum\n",
    "\n",
    "# Example usage:\n",
    "nums = [-2, 1, -3, 4, -1, 2, 1, -5, 4]\n",
    "print(max_subarray(nums))"
   ]
  },
  {
   "cell_type": "code",
   "execution_count": null,
   "metadata": {},
   "outputs": [],
   "source": []
  }
 ],
 "metadata": {
  "kernelspec": {
   "display_name": "Python 3",
   "language": "python",
   "name": "python3"
  },
  "language_info": {
   "codemirror_mode": {
    "name": "ipython",
    "version": 3
   },
   "file_extension": ".py",
   "mimetype": "text/x-python",
   "name": "python",
   "nbconvert_exporter": "python",
   "pygments_lexer": "ipython3",
   "version": "3.7.1"
  }
 },
 "nbformat": 4,
 "nbformat_minor": 2
}
