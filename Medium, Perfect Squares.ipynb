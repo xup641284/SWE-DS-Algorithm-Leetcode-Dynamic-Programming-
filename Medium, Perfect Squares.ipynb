{
 "cells": [
  {
   "cell_type": "markdown",
   "metadata": {},
   "source": [
    "# Dynamic programming"
   ]
  },
  {
   "cell_type": "code",
   "execution_count": 1,
   "metadata": {},
   "outputs": [
    {
     "name": "stdout",
     "output_type": "stream",
     "text": [
      "3\n"
     ]
    }
   ],
   "source": [
    "def numSquares(n):\n",
    "    if n <= 0:\n",
    "        return 0\n",
    "\n",
    "    dp = [float('inf')] * (n + 1)\n",
    "    dp[0] = 0\n",
    "\n",
    "    for i in range(1, n + 1):\n",
    "        j = 1\n",
    "        while j * j <= i:\n",
    "            dp[i] = min(dp[i], dp[i - j * j] + 1)\n",
    "            j += 1\n",
    "\n",
    "    return dp[n]\n",
    "\n",
    "if __name__ == '__main__':\n",
    "    n = 12\n",
    "    result = numSquares(n)\n",
    "    print(result)  # Output: 3 (12 = 4 + 4 + 4)\n"
   ]
  },
  {
   "cell_type": "markdown",
   "metadata": {},
   "source": [
    "# BFS approach"
   ]
  },
  {
   "cell_type": "code",
   "execution_count": 2,
   "metadata": {},
   "outputs": [
    {
     "name": "stdout",
     "output_type": "stream",
     "text": [
      "3\n"
     ]
    }
   ],
   "source": [
    "from collections import deque\n",
    "\n",
    "def numSquares(n):\n",
    "    if n <= 0:\n",
    "        return 0\n",
    "\n",
    "    squares = []\n",
    "    i = 1\n",
    "    while i * i <= n:\n",
    "        squares.append(i * i)\n",
    "        i += 1\n",
    "\n",
    "    queue = deque([(n, 0)])\n",
    "    visited = set()\n",
    "\n",
    "    while queue:\n",
    "        num, steps = queue.popleft()\n",
    "\n",
    "        for square in squares:\n",
    "            next_num = num - square\n",
    "\n",
    "            if next_num == 0:\n",
    "                return steps + 1\n",
    "\n",
    "            if next_num > 0 and next_num not in visited:\n",
    "                queue.append((next_num, steps + 1))\n",
    "                visited.add(next_num)\n",
    "\n",
    "    return 0\n",
    "if __name__ == '__main__':\n",
    "    n = 12\n",
    "    result = numSquares(n)\n",
    "    print(result)  # Output: 3 (12 = 4 + 4 + 4)\n"
   ]
  },
  {
   "cell_type": "code",
   "execution_count": null,
   "metadata": {},
   "outputs": [],
   "source": []
  }
 ],
 "metadata": {
  "kernelspec": {
   "display_name": "Python 3",
   "language": "python",
   "name": "python3"
  },
  "language_info": {
   "codemirror_mode": {
    "name": "ipython",
    "version": 3
   },
   "file_extension": ".py",
   "mimetype": "text/x-python",
   "name": "python",
   "nbconvert_exporter": "python",
   "pygments_lexer": "ipython3",
   "version": "3.7.1"
  }
 },
 "nbformat": 4,
 "nbformat_minor": 2
}
