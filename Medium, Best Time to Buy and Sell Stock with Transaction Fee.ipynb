{
 "cells": [
  {
   "cell_type": "code",
   "execution_count": 1,
   "metadata": {},
   "outputs": [
    {
     "name": "stdout",
     "output_type": "stream",
     "text": [
      "8\n"
     ]
    }
   ],
   "source": [
    "def maxProfitWithFee(prices, fee):\n",
    "    if not prices:\n",
    "        return 0\n",
    "\n",
    "    n = len(prices)\n",
    "    dp = [[0, 0] for _ in range(n)]\n",
    "\n",
    "    # dp[i][0] represents the maximum profit if we don't have any stock on day i\n",
    "    # dp[i][1] represents the maximum profit if we have one stock on day i\n",
    "\n",
    "    dp[0][0] = 0\n",
    "    dp[0][1] = -prices[0]\n",
    "\n",
    "    for i in range(1, n):\n",
    "        dp[i][0] = max(dp[i - 1][0], dp[i - 1][1] + prices[i] - fee)\n",
    "        dp[i][1] = max(dp[i - 1][1], dp[i - 1][0] - prices[i])\n",
    "\n",
    "    return dp[n - 1][0]\n",
    "\n",
    "# Example usage\n",
    "prices = [1, 3, 2, 8, 4, 9]\n",
    "fee = 2\n",
    "result = maxProfitWithFee(prices, fee)\n",
    "print(result)  # Output: 8 (Buy at day 1 (price=3) and sell at day 5 (price=9) for a profit of 6 - fee)\n"
   ]
  },
  {
   "cell_type": "code",
   "execution_count": null,
   "metadata": {},
   "outputs": [],
   "source": []
  }
 ],
 "metadata": {
  "kernelspec": {
   "display_name": "Python 3",
   "language": "python",
   "name": "python3"
  },
  "language_info": {
   "codemirror_mode": {
    "name": "ipython",
    "version": 3
   },
   "file_extension": ".py",
   "mimetype": "text/x-python",
   "name": "python",
   "nbconvert_exporter": "python",
   "pygments_lexer": "ipython3",
   "version": "3.7.1"
  }
 },
 "nbformat": 4,
 "nbformat_minor": 2
}
