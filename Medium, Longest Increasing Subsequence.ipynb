{
 "cells": [
  {
   "cell_type": "markdown",
   "metadata": {},
   "source": [
    "# Dynamic Programming"
   ]
  },
  {
   "cell_type": "code",
   "execution_count": 2,
   "metadata": {},
   "outputs": [
    {
     "name": "stdout",
     "output_type": "stream",
     "text": [
      "4\n"
     ]
    }
   ],
   "source": [
    "def lengthOfLIS(nums):\n",
    "    if not nums:\n",
    "        return 0\n",
    "\n",
    "    dp = [1] * len(nums)\n",
    "\n",
    "    for i in range(len(nums)):\n",
    "        for j in range(i):\n",
    "            if nums[i] > nums[j]:\n",
    "                dp[i] = max(dp[i], dp[j] + 1)\n",
    "\n",
    "    return max(dp)\n",
    "\n",
    "nums = [10, 9, 2, 5, 3, 7, 101, 18]\n",
    "result = lengthOfLIS(nums)\n",
    "print(result)  # Output: 4 (longest increasing subsequence: 2, 3, 7, 101)\n"
   ]
  },
  {
   "cell_type": "markdown",
   "metadata": {},
   "source": [
    "# Binary search"
   ]
  },
  {
   "cell_type": "code",
   "execution_count": 20,
   "metadata": {},
   "outputs": [
    {
     "name": "stdout",
     "output_type": "stream",
     "text": [
      "0\n",
      "[9]\n",
      "0\n",
      "[2]\n",
      "1\n",
      "[2, 3]\n",
      "3\n",
      "[2, 3, 7, 18]\n",
      "4\n"
     ]
    }
   ],
   "source": [
    "def lengthOfLIS(nums):\n",
    "    def binary_search(subseq, target):\n",
    "        left, right = 0, len(subseq) - 1\n",
    "        while left <= right:\n",
    "            mid = left + (right - left) // 2\n",
    "            if subseq[mid] < target:\n",
    "                left = mid + 1\n",
    "            else:\n",
    "                right = mid - 1\n",
    "        return left\n",
    "\n",
    "    subseq = []\n",
    "    for num in nums:\n",
    "        if not subseq or num > subseq[-1]:\n",
    "            subseq.append(num)\n",
    "        else:\n",
    "            idx = binary_search(subseq, num)\n",
    "            subseq[idx] = num\n",
    "    \n",
    "    return len(subseq)\n",
    "\n",
    "nums = [10, 9, 2, 5, 3, 7, 101, 18]\n",
    "result = lengthOfLIS(nums)\n",
    "print(result)  # Output: 4 (longest increasing subsequence: 2, 3, 7, 101)\n",
    "\n"
   ]
  },
  {
   "cell_type": "code",
   "execution_count": null,
   "metadata": {},
   "outputs": [],
   "source": []
  }
 ],
 "metadata": {
  "kernelspec": {
   "display_name": "Python 3",
   "language": "python",
   "name": "python3"
  },
  "language_info": {
   "codemirror_mode": {
    "name": "ipython",
    "version": 3
   },
   "file_extension": ".py",
   "mimetype": "text/x-python",
   "name": "python",
   "nbconvert_exporter": "python",
   "pygments_lexer": "ipython3",
   "version": "3.7.1"
  }
 },
 "nbformat": 4,
 "nbformat_minor": 2
}
