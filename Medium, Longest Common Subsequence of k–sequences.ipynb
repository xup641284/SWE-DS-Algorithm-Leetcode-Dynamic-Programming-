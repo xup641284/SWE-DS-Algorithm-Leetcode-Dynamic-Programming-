{
 "cells": [
  {
   "cell_type": "markdown",
   "metadata": {},
   "source": [
    "# Naive, O(3(m+n+o))"
   ]
  },
  {
   "cell_type": "code",
   "execution_count": 2,
   "metadata": {},
   "outputs": [
    {
     "name": "stdout",
     "output_type": "stream",
     "text": [
      "The length of the LCS is 4\n"
     ]
    }
   ],
   "source": [
    "# Function to find the length of the longest common subsequence of\n",
    "# sequences X[0…m-1], Y[0…n-1], and Z[0…o-1]\n",
    "def LCSLength(X, Y, Z, m, n, o):\n",
    " \n",
    "    # return if the end of either sequence is reached\n",
    "    if m == 0 or n == 0 or o == 0:\n",
    "        return 0\n",
    " \n",
    "    # if the last character of `X`, `Y`, and `Z` matches\n",
    "    if X[m - 1] == Y[n - 1] and Y[n - 1] == Z[o - 1]:\n",
    "        return LCSLength(X, Y, Z, m - 1, n - 1, o - 1) + 1\n",
    " \n",
    "    # otherwise, if the last character of `X`, `Y` and `Z` doesn't match\n",
    "    return max(LCSLength(X, Y, Z, m - 1, n, o),\n",
    "            LCSLength(X, Y, Z, m, n - 1, o),\n",
    "            LCSLength(X, Y, Z, m, n, o - 1))\n",
    " \n",
    "if __name__ == '__main__':\n",
    " \n",
    "    X = 'ABCBDAB'\n",
    "    Y = 'BDCABA'\n",
    "    Z = 'BADACB'\n",
    " \n",
    "    print('The length of the LCS is', LCSLength(X, Y, Z, len(X), len(Y), len(Z)))\n",
    " "
   ]
  },
  {
   "cell_type": "markdown",
   "metadata": {},
   "source": [
    "#  top-down solution, O(m.n.o)"
   ]
  },
  {
   "cell_type": "code",
   "execution_count": 3,
   "metadata": {},
   "outputs": [
    {
     "name": "stdout",
     "output_type": "stream",
     "text": [
      "The length of the LCS is 4\n"
     ]
    }
   ],
   "source": [
    "# Function to find the length of the longest common subsequence of\n",
    "# sequences X[0…m-1], Y[0…n-1], and Z[0…o-1]\n",
    "def LCSLength(X, Y, Z, m, n, o, lookup):\n",
    " \n",
    "    # return if the end of either sequence is reached\n",
    "    if m == 0 or n == 0 or o == 0:\n",
    "        return 0\n",
    " \n",
    "    # construct a unique key from dynamic elements of the input\n",
    "    key = (m, n, o)\n",
    " \n",
    "    # if the subproblem is seen for the first time, solve it and\n",
    "    # store its result in a dictionary\n",
    "    if key not in lookup:\n",
    " \n",
    "        # if the last character of `X`, `Y`, and `Z` matches\n",
    "        if X[m - 1] == Y[n - 1] and Y[n - 1] == Z[o - 1]:\n",
    "            lookup[key] = LCSLength(X, Y, Z, m - 1, n - 1, o - 1, lookup) + 1\n",
    "        else:\n",
    "            # otherwise, if the last character of `X`, `Y` and `Z` doesn't match\n",
    "            lookup[key] = max(LCSLength(X, Y, Z, m - 1, n, o, lookup),\n",
    "                                LCSLength(X, Y, Z, m, n - 1, o, lookup),\n",
    "                                LCSLength(X, Y, Z, m, n, o - 1, lookup))\n",
    " \n",
    "    # return the subproblem solution from the dictionary\n",
    "    return lookup[key]\n",
    " \n",
    "if __name__ == '__main__':\n",
    " \n",
    "    X = 'ABCBDAB'\n",
    "    Y = 'BDCABA'\n",
    "    Z = 'BADACB'\n",
    " \n",
    "    # create a dictionary to store solutions to subproblems\n",
    "    lookup = {}\n",
    " \n",
    "    print('The length of the LCS is',\n",
    "        LCSLength(X, Y, Z, len(X), len(Y), len(Z), lookup))"
   ]
  },
  {
   "cell_type": "markdown",
   "metadata": {},
   "source": [
    "# bottom-up solution, O(m.n.o)"
   ]
  },
  {
   "cell_type": "code",
   "execution_count": 4,
   "metadata": {},
   "outputs": [
    {
     "name": "stdout",
     "output_type": "stream",
     "text": [
      "The length of the LCS is 4\n"
     ]
    }
   ],
   "source": [
    "# Function to find the length of the longest common subsequence of\n",
    "# sequences X[0…m-1], Y[0…n-1], and Z[0…o-1]\n",
    "def LCSLength(X, Y, Z):\n",
    " \n",
    "    m = len(X)\n",
    "    n = len(Y)\n",
    "    o = len(Z)\n",
    " \n",
    "    # T[m+1][n+1][o+1]: lookup table to store solution to already computed\n",
    "    # subproblems, i.e., T[i][j][k] stores the length of LCS of substring\n",
    "    # X[0…i-1], Y[0…j-1] and Z[0…k-1]\n",
    " \n",
    "    T = [[[0 for k in range(o + 1)] for j in range(n + 1)] for i in range(m + 1)]\n",
    " \n",
    "    # fill the lookup table in a bottom-up manner\n",
    "    for i in range(1, m + 1):\n",
    "        for j in range(1, n + 1):\n",
    "            for k in range(1, o + 1):\n",
    "                # if the current character of `X`, `Y`, and `Z` matches\n",
    "                if X[i - 1] == Y[j - 1] and Y[j - 1] == Z[k - 1]:\n",
    "                    T[i][j][k] = T[i - 1][j - 1][k - 1] + 1\n",
    "                # otherwise, if the current character of `X`, `Y`, and `Z`\n",
    "                # doesn't match\n",
    "                else:\n",
    "                    T[i][j][k] = max(T[i - 1][j][k], T[i][j - 1][k], T[i][j][k - 1])\n",
    " \n",
    "    # LCS will be the last entry in the lookup table\n",
    "    return T[m][n][o]\n",
    " \n",
    "if __name__ == '__main__':\n",
    " \n",
    "    X = 'ABCBDAB'\n",
    "    Y = 'BDCABA'\n",
    "    Z = 'BADACB'\n",
    " \n",
    "    print('The length of the LCS is', LCSLength(X, Y, Z))"
   ]
  },
  {
   "cell_type": "code",
   "execution_count": null,
   "metadata": {},
   "outputs": [],
   "source": []
  }
 ],
 "metadata": {
  "kernelspec": {
   "display_name": "Python 3",
   "language": "python",
   "name": "python3"
  },
  "language_info": {
   "codemirror_mode": {
    "name": "ipython",
    "version": 3
   },
   "file_extension": ".py",
   "mimetype": "text/x-python",
   "name": "python",
   "nbconvert_exporter": "python",
   "pygments_lexer": "ipython3",
   "version": "3.7.1"
  }
 },
 "nbformat": 4,
 "nbformat_minor": 2
}
