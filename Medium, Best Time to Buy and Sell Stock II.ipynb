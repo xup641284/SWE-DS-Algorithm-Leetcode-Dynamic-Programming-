{
 "cells": [
  {
   "cell_type": "code",
   "execution_count": 1,
   "metadata": {},
   "outputs": [
    {
     "name": "stdout",
     "output_type": "stream",
     "text": [
      "7\n"
     ]
    }
   ],
   "source": [
    "def maxProfit(prices):\n",
    "    max_profit = 0\n",
    "\n",
    "    for i in range(1, len(prices)):\n",
    "        if prices[i] > prices[i - 1]:\n",
    "            max_profit += prices[i] - prices[i - 1]\n",
    "\n",
    "    return max_profit\n",
    "\n",
    "# Test the function\n",
    "prices = [7, 1, 5, 3, 6, 4]\n",
    "print(maxProfit(prices))  # Output: 7\n"
   ]
  },
  {
   "cell_type": "markdown",
   "metadata": {},
   "source": [
    "# Dynamic Programming"
   ]
  },
  {
   "cell_type": "code",
   "execution_count": 3,
   "metadata": {},
   "outputs": [
    {
     "name": "stdout",
     "output_type": "stream",
     "text": [
      "[0, 0, 4, 4, 7, 7]\n",
      "7\n"
     ]
    }
   ],
   "source": [
    "def maxProfit(prices):\n",
    "    if not prices or len(prices) < 2:\n",
    "        return 0\n",
    "\n",
    "    n = len(prices)\n",
    "    dp = [0] * n\n",
    "\n",
    "    for i in range(1, n):\n",
    "        if prices[i] > prices[i - 1]:\n",
    "            dp[i] = dp[i - 1] + prices[i] - prices[i - 1]\n",
    "        else:\n",
    "            dp[i] = dp[i - 1]\n",
    "            \n",
    "    return dp[-1]\n",
    "\n",
    "# Test the function\n",
    "prices = [7, 1, 5, 3, 6, 4]\n",
    "print(maxProfit(prices))  # Output: 7\n"
   ]
  },
  {
   "cell_type": "code",
   "execution_count": null,
   "metadata": {},
   "outputs": [],
   "source": []
  }
 ],
 "metadata": {
  "kernelspec": {
   "display_name": "Python 3",
   "language": "python",
   "name": "python3"
  },
  "language_info": {
   "codemirror_mode": {
    "name": "ipython",
    "version": 3
   },
   "file_extension": ".py",
   "mimetype": "text/x-python",
   "name": "python",
   "nbconvert_exporter": "python",
   "pygments_lexer": "ipython3",
   "version": "3.7.1"
  }
 },
 "nbformat": 4,
 "nbformat_minor": 2
}
