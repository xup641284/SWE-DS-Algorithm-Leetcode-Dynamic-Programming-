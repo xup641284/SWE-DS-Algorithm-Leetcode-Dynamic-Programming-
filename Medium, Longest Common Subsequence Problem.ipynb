{
 "cells": [
  {
   "cell_type": "markdown",
   "metadata": {},
   "source": [
    "# Naive, O(2(m+n)) "
   ]
  },
  {
   "cell_type": "code",
   "execution_count": 2,
   "metadata": {},
   "outputs": [
    {
     "name": "stdout",
     "output_type": "stream",
     "text": [
      "The length of the LCS is 4\n"
     ]
    }
   ],
   "source": [
    "# Function to find the length of the longest common subsequence of\n",
    "# sequences `X[0…m-1]` and `Y[0…n-1]`\n",
    "def LCSLength(X, Y, m, n):\n",
    " \n",
    "    # return if the end of either sequence is reached\n",
    "    if m == 0 or n == 0:\n",
    "        return 0\n",
    " \n",
    "    # if the last character of `X` and `Y` matches\n",
    "    if X[m - 1] == Y[n - 1]:\n",
    "        return LCSLength(X, Y, m - 1, n - 1) + 1\n",
    " \n",
    "    # otherwise, if the last character of `X` and `Y` don't match\n",
    "    return max(LCSLength(X, Y, m, n - 1), LCSLength(X, Y, m - 1, n))\n",
    " \n",
    "if __name__ == '__main__':\n",
    " \n",
    "    X = 'ABCBDAB'\n",
    "    Y = 'BDCABA'\n",
    " \n",
    "    print('The length of the LCS is', LCSLength(X, Y, len(X), len(Y)))"
   ]
  },
  {
   "cell_type": "markdown",
   "metadata": {},
   "source": [
    "# top-down solution, O(m.n)"
   ]
  },
  {
   "cell_type": "code",
   "execution_count": 6,
   "metadata": {},
   "outputs": [
    {
     "name": "stdout",
     "output_type": "stream",
     "text": [
      "The length of the LCS is 4\n"
     ]
    }
   ],
   "source": [
    "# Function to find the length of the longest common subsequence of substring\n",
    "# `X[0…m-1]` and `Y[0…n-1]`\n",
    "def LCSLength(X, Y, m, n, lookup):\n",
    " \n",
    "    # return if the end of either string is reached\n",
    "    if m == 0 or n == 0:\n",
    "        return 0\n",
    " \n",
    "    # construct a unique key from dynamic elements of the input\n",
    "    key = (m, n)\n",
    " \n",
    "    # if the subproblem is seen for the first time, solve it and\n",
    "    # store its result in a dictionary\n",
    "    if key not in lookup:\n",
    " \n",
    "        # if the last character of `X` and `Y` matches\n",
    "        if X[m - 1] == Y[n - 1]:\n",
    "            lookup[key] = LCSLength(X, Y, m - 1, n - 1, lookup) + 1\n",
    " \n",
    "        else:\n",
    "            # otherwise, if the last character of `X` and `Y` don't match\n",
    "            lookup[key] = max(LCSLength(X, Y, m, n - 1, lookup),\n",
    "                            LCSLength(X, Y, m - 1, n, lookup))\n",
    " \n",
    "    # return the subproblem solution from the dictionary\n",
    "    return lookup[key]\n",
    " \n",
    "if __name__ == '__main__':\n",
    " \n",
    "    X = 'ABCBDAB'\n",
    "    Y = 'BDCABA'\n",
    " \n",
    "    # create a dictionary to store solutions to subproblems\n",
    "    lookup = {}\n",
    " \n",
    "    print('The length of the LCS is', LCSLength(X, Y, len(X), len(Y), lookup))"
   ]
  },
  {
   "cell_type": "markdown",
   "metadata": {},
   "source": [
    "#  bottom-up solution, O(m.n)"
   ]
  },
  {
   "cell_type": "code",
   "execution_count": 10,
   "metadata": {},
   "outputs": [
    {
     "name": "stdout",
     "output_type": "stream",
     "text": [
      "The length of the LCS is 4\n"
     ]
    }
   ],
   "source": [
    "# Function to find the length of the longest common subsequence of substring\n",
    "# `X[0…m-1]` and `Y[0…n-1]`\n",
    "def LCSLength(X, Y):\n",
    " \n",
    "    m = len(X)\n",
    "    n = len(Y)\n",
    " \n",
    "    # lookup table stores solution to already computed subproblems;\n",
    "    # i.e., `T[i][j]` stores the length of LCS of substring\n",
    "    # `X[0…i-1]` and `Y[0…j-1]`\n",
    "    T = [[0 for x in range(n + 1)] for y in range(m + 1)]\n",
    " \n",
    "    # fill the lookup table in a bottom-up manner\n",
    "    for i in range(1, m + 1):\n",
    "        for j in range(1, n + 1):\n",
    "            # if the current character of `X` and `Y` matches\n",
    "            if X[i - 1] == Y[j - 1]:\n",
    "                T[i][j] = T[i - 1][j - 1] + 1\n",
    "            # otherwise, if the current character of `X` and `Y` don't match\n",
    "            else:\n",
    "                T[i][j] = max(T[i - 1][j], T[i][j - 1])\n",
    " \n",
    "    # LCS will be the last entry in the lookup table\n",
    "    return T[m][n]\n",
    " \n",
    "if __name__ == '__main__':\n",
    " \n",
    "    X = 'XMJYAUZ'\n",
    "    Y = 'MZJAWXU'\n",
    " \n",
    "    print('The length of the LCS is', LCSLength(X, Y))\n",
    " "
   ]
  },
  {
   "cell_type": "code",
   "execution_count": null,
   "metadata": {},
   "outputs": [],
   "source": []
  }
 ],
 "metadata": {
  "kernelspec": {
   "display_name": "Python 3",
   "language": "python",
   "name": "python3"
  },
  "language_info": {
   "codemirror_mode": {
    "name": "ipython",
    "version": 3
   },
   "file_extension": ".py",
   "mimetype": "text/x-python",
   "name": "python",
   "nbconvert_exporter": "python",
   "pygments_lexer": "ipython3",
   "version": "3.7.1"
  }
 },
 "nbformat": 4,
 "nbformat_minor": 2
}
