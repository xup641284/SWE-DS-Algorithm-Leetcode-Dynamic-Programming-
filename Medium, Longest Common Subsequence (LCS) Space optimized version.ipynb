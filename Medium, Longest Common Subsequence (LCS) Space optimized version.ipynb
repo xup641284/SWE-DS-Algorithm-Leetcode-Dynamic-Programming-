{
 "cells": [
  {
   "cell_type": "markdown",
   "metadata": {},
   "source": [
    "# space-optimized algorithm using two arrays,  O(m.n)"
   ]
  },
  {
   "cell_type": "code",
   "execution_count": 1,
   "metadata": {},
   "outputs": [
    {
     "name": "stdout",
     "output_type": "stream",
     "text": [
      "The length of the LCS is 4\n"
     ]
    }
   ],
   "source": [
    "# Space optimized function to find the length of the longest common subsequence\n",
    "# of substring `X[0…m-1]` and `Y[0…n-1]`\n",
    "def LCSLength(X, Y):\n",
    " \n",
    "    m = len(X)\n",
    "    n = len(Y)\n",
    " \n",
    "    # allocate storage for one-dimensional lists, `curr` and `prev`\n",
    "    curr = [0] * (n + 1)\n",
    "    prev = [0] * (n + 1)\n",
    " \n",
    "    # fill the lookup table in a bottom-up manner\n",
    "    for i in range(m + 1):\n",
    "        for j in range(n + 1):\n",
    "            if i > 0 and j > 0:\n",
    "                # if the current character of `X` and `Y` matches\n",
    "                if X[i - 1] == Y[j - 1]:\n",
    "                    curr[j] = prev[j - 1] + 1\n",
    "                # otherwise, if the current character of `X` and `Y` don't match\n",
    "                else:\n",
    "                    curr[j] = max(prev[j], curr[j - 1])\n",
    " \n",
    "        # replace contents of the previous list with the current list\n",
    "        prev = curr.copy()\n",
    " \n",
    "    # LCS will be the last entry in the lookup table\n",
    "    return curr[n]\n",
    " \n",
    "if __name__ == '__main__':\n",
    " \n",
    "    X = 'XMJYAUZ'\n",
    "    Y = 'MZJAWXU'\n",
    " \n",
    "    print('The length of the LCS is', LCSLength(X, Y))"
   ]
  },
  {
   "cell_type": "markdown",
   "metadata": {},
   "source": [
    "# space-optimized algorithm using one array,  O(m.n)"
   ]
  },
  {
   "cell_type": "code",
   "execution_count": 2,
   "metadata": {},
   "outputs": [
    {
     "name": "stdout",
     "output_type": "stream",
     "text": [
      "The length of the LCS is 4\n"
     ]
    }
   ],
   "source": [
    "# Space optimized function to find the length of the longest common subsequence\n",
    "# of substring `X[0…m-1]` and `Y[0…n-1]`\n",
    "def LCSLength(X, Y):\n",
    " \n",
    "    m = len(X)\n",
    "    n = len(Y)\n",
    " \n",
    "    # allocate storage for one-dimensional list `curr`\n",
    "    curr = [None] * (n + 1)\n",
    " \n",
    "    # fill the lookup table in a bottom-up manner\n",
    "    for i in range(m + 1):\n",
    "        prev = curr[0]\n",
    "        for j in range(n + 1):\n",
    "            backup = curr[j]\n",
    "            if i == 0 or j == 0:\n",
    "                curr[j] = 0\n",
    "            else:\n",
    "                # if the current character of `X` and `Y` matches\n",
    "                if X[i - 1] == Y[j - 1]:\n",
    "                    curr[j] = prev + 1\n",
    "                # otherwise, if the current character of `X` and `Y` don't match\n",
    "                else:\n",
    "                    curr[j] = max(curr[j], curr[j - 1])\n",
    " \n",
    "            prev = backup\n",
    " \n",
    "    # LCS will be the last entry in the lookup table\n",
    "    return curr[n]\n",
    " \n",
    "if __name__ == '__main__':\n",
    " \n",
    "    X = 'XMJYAUZ'\n",
    "    Y = 'MZJAWXU'\n",
    " \n",
    "    # pass smaller string as a second argument to `LCSLength()`\n",
    "    if len(X) > len(Y):\n",
    "        print('The length of the LCS is', LCSLength(X, Y))\n",
    "    else:\n",
    "        print('The length of the LCS is', LCSLength(Y, X))\n",
    " "
   ]
  },
  {
   "cell_type": "code",
   "execution_count": null,
   "metadata": {},
   "outputs": [],
   "source": []
  }
 ],
 "metadata": {
  "kernelspec": {
   "display_name": "Python 3",
   "language": "python",
   "name": "python3"
  },
  "language_info": {
   "codemirror_mode": {
    "name": "ipython",
    "version": 3
   },
   "file_extension": ".py",
   "mimetype": "text/x-python",
   "name": "python",
   "nbconvert_exporter": "python",
   "pygments_lexer": "ipython3",
   "version": "3.7.1"
  }
 },
 "nbformat": 4,
 "nbformat_minor": 2
}
