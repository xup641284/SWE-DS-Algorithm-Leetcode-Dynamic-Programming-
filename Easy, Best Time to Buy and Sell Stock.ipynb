{
 "cells": [
  {
   "cell_type": "code",
   "execution_count": 5,
   "metadata": {},
   "outputs": [
    {
     "name": "stdout",
     "output_type": "stream",
     "text": [
      "5\n"
     ]
    }
   ],
   "source": [
    "def maxProfit(prices):\n",
    "    if not prices or len(prices) < 2:\n",
    "        return 0\n",
    "\n",
    "    max_profit = 0\n",
    "    min_price = prices[0]\n",
    "    \n",
    "    for price in prices[1:]:\n",
    "        if price < min_price:\n",
    "            min_price = price\n",
    "        else:\n",
    "            max_profit = max(max_profit, price - min_price)\n",
    "\n",
    "    return max_profit\n",
    "\n",
    "# Test the function\n",
    "prices = [7, 1, 5, 3, 6, 4]\n",
    "print(maxProfit(prices))  # Output: 5\n"
   ]
  },
  {
   "cell_type": "markdown",
   "metadata": {},
   "source": [
    "# Dynamic Programming"
   ]
  },
  {
   "cell_type": "code",
   "execution_count": 2,
   "metadata": {},
   "outputs": [
    {
     "name": "stdout",
     "output_type": "stream",
     "text": [
      "5\n"
     ]
    }
   ],
   "source": [
    "def maxProfit(prices):\n",
    "    if not prices or len(prices) < 2:\n",
    "        return 0\n",
    "\n",
    "    n = len(prices)\n",
    "    dp = [0] * n\n",
    "\n",
    "    min_price = prices[0]\n",
    "    for i in range(1, n):\n",
    "        dp[i] = max(dp[i - 1], prices[i] - min_price)\n",
    "        min_price = min(min_price, prices[i])\n",
    "\n",
    "    return dp[n - 1]\n",
    "\n",
    "# Test the function\n",
    "prices = [7, 1, 5, 3, 6, 4]\n",
    "print(maxProfit(prices))  # Output: 5\n"
   ]
  },
  {
   "cell_type": "code",
   "execution_count": null,
   "metadata": {},
   "outputs": [],
   "source": []
  }
 ],
 "metadata": {
  "kernelspec": {
   "display_name": "Python 3",
   "language": "python",
   "name": "python3"
  },
  "language_info": {
   "codemirror_mode": {
    "name": "ipython",
    "version": 3
   },
   "file_extension": ".py",
   "mimetype": "text/x-python",
   "name": "python",
   "nbconvert_exporter": "python",
   "pygments_lexer": "ipython3",
   "version": "3.7.1"
  }
 },
 "nbformat": 4,
 "nbformat_minor": 2
}
