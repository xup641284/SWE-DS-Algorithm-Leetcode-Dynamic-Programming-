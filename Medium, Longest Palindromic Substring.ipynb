{
 "cells": [
  {
   "cell_type": "markdown",
   "metadata": {},
   "source": [
    "# Dynamic Programming"
   ]
  },
  {
   "cell_type": "code",
   "execution_count": 11,
   "metadata": {},
   "outputs": [
    {
     "name": "stdout",
     "output_type": "stream",
     "text": [
      "3\n",
      "4\n",
      "5\n",
      "aba\n"
     ]
    }
   ],
   "source": [
    "def longestPalindrome(s):\n",
    "    n = len(s)\n",
    "    dp = [[False] * n for _ in range(n)]\n",
    "    longest_palindrome = \"\"\n",
    "\n",
    "    # All substrings of length 1 are palindromic\n",
    "    for i in range(n):\n",
    "        dp[i][i] = True\n",
    "        longest_palindrome = s[i]\n",
    "\n",
    "    # Check for substrings of length 2\n",
    "    for i in range(n - 1):\n",
    "        if s[i] == s[i + 1]:\n",
    "            dp[i][i + 1] = True\n",
    "            longest_palindrome = s[i:i + 2]\n",
    "\n",
    "    # Check for substrings of length 3 and more\n",
    "    for length in range(3, n + 1):\n",
    "        for i in range(n - length + 1):\n",
    "            j = i + length - 1\n",
    "            if s[i] == s[j] and dp[i + 1][j - 1]:\n",
    "                dp[i][j] = True\n",
    "                longest_palindrome = s[i:j + 1]\n",
    "\n",
    "    return longest_palindrome\n",
    "\n",
    "s = \"babad\"\n",
    "result = longestPalindrome(s)\n",
    "print(result)  # Output: \"bab\" (The longest palindromic substring in \"babad\" is \"bab\")\n",
    "\n"
   ]
  },
  {
   "cell_type": "markdown",
   "metadata": {},
   "source": [
    "# Brute Force, Check all substring"
   ]
  },
  {
   "cell_type": "code",
   "execution_count": 2,
   "metadata": {},
   "outputs": [
    {
     "name": "stdout",
     "output_type": "stream",
     "text": [
      "bab\n"
     ]
    }
   ],
   "source": [
    "def longestPalindrome(s):\n",
    "    def check(i, j):\n",
    "        left = i\n",
    "        right = j - 1\n",
    "\n",
    "        while left < right:\n",
    "            if s[left] != s[right]:\n",
    "                return False\n",
    "\n",
    "            left += 1\n",
    "            right -= 1\n",
    "\n",
    "        return True\n",
    "\n",
    "    for length in range(len(s), 0, -1):\n",
    "        for start in range(len(s) - length + 1):\n",
    "            if check(start, start + length):\n",
    "                return s[start:start + length]\n",
    "\n",
    "    return \"\"\n",
    "\n",
    "s = \"babad\"\n",
    "result = longestPalindrome(s)\n",
    "print(result)  # Output: \"bab\" (The longest palindromic substring in \"babad\" is \"bab\")\n",
    "\n"
   ]
  },
  {
   "cell_type": "code",
   "execution_count": null,
   "metadata": {},
   "outputs": [],
   "source": []
  }
 ],
 "metadata": {
  "kernelspec": {
   "display_name": "Python 3",
   "language": "python",
   "name": "python3"
  },
  "language_info": {
   "codemirror_mode": {
    "name": "ipython",
    "version": 3
   },
   "file_extension": ".py",
   "mimetype": "text/x-python",
   "name": "python",
   "nbconvert_exporter": "python",
   "pygments_lexer": "ipython3",
   "version": "3.7.1"
  }
 },
 "nbformat": 4,
 "nbformat_minor": 2
}
