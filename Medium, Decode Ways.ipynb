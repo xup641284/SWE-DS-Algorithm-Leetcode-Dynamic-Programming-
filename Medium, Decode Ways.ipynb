{
 "cells": [
  {
   "cell_type": "code",
   "execution_count": 1,
   "metadata": {},
   "outputs": [
    {
     "name": "stdout",
     "output_type": "stream",
     "text": [
      "3\n"
     ]
    }
   ],
   "source": [
    "def num_decodings(s):\n",
    "    if not s or s[0] == '0':\n",
    "        return 0\n",
    "    \n",
    "    n = len(s)\n",
    "    dp = [0] * (n + 1)\n",
    "    dp[0] = dp[1] = 1\n",
    "    \n",
    "    \n",
    "    for i in range(2, n + 1):\n",
    "        if s[i - 1] != '0':\n",
    "            dp[i] += dp[i - 1]\n",
    "        if '10' <= s[i - 2:i] <= '26':\n",
    "            dp[i] += dp[i - 2]\n",
    "            \n",
    "    return dp[n]\n",
    "\n",
    "s = \"226\"\n",
    "result = num_decodings(s)\n",
    "print(result)  # Output: 3 (Possible decodings: \"BZ\", \"VF\", \"BBF\")\n",
    "\n"
   ]
  },
  {
   "cell_type": "code",
   "execution_count": null,
   "metadata": {},
   "outputs": [],
   "source": []
  }
 ],
 "metadata": {
  "kernelspec": {
   "display_name": "Python 3",
   "language": "python",
   "name": "python3"
  },
  "language_info": {
   "codemirror_mode": {
    "name": "ipython",
    "version": 3
   },
   "file_extension": ".py",
   "mimetype": "text/x-python",
   "name": "python",
   "nbconvert_exporter": "python",
   "pygments_lexer": "ipython3",
   "version": "3.7.1"
  }
 },
 "nbformat": 4,
 "nbformat_minor": 2
}
