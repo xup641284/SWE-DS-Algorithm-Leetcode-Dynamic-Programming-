{
 "cells": [
  {
   "cell_type": "markdown",
   "metadata": {},
   "source": [
    "# Dynamic Programming, similar to Longest Palindromic Substring"
   ]
  },
  {
   "cell_type": "code",
   "execution_count": 1,
   "metadata": {},
   "outputs": [
    {
     "name": "stdout",
     "output_type": "stream",
     "text": [
      "3\n"
     ]
    }
   ],
   "source": [
    "def countSubstrings(s):\n",
    "    if not s:\n",
    "        return 0\n",
    "\n",
    "    n = len(s)\n",
    "    dp = [[False for _ in range(n)] for _ in range(n)]\n",
    "    count = 0\n",
    "\n",
    "    # All individual characters are palindromic\n",
    "    for i in range(n):\n",
    "        dp[i][i] = True\n",
    "        count += 1\n",
    "\n",
    "    # Check for palindromic substrings of length 2\n",
    "    for i in range(n - 1):\n",
    "        if s[i] == s[i + 1]:\n",
    "            dp[i][i + 1] = True\n",
    "            count += 1\n",
    "\n",
    "    # Check for palindromic substrings of length 3 and above\n",
    "    for length in range(3, n + 1):\n",
    "        for i in range(n - length + 1):\n",
    "            j = i + length - 1\n",
    "            if s[i] == s[j] and dp[i + 1][j - 1]:\n",
    "                dp[i][j] = True\n",
    "                count += 1\n",
    "\n",
    "    return count\n",
    "\n",
    "# Example usage:\n",
    "s = \"abc\"\n",
    "result = countSubstrings(s)\n",
    "print(result)  # Output: 3 (The palindromic substrings are \"a\", \"b\", and \"c\")\n"
   ]
  },
  {
   "cell_type": "code",
   "execution_count": null,
   "metadata": {},
   "outputs": [],
   "source": []
  }
 ],
 "metadata": {
  "kernelspec": {
   "display_name": "Python 3",
   "language": "python",
   "name": "python3"
  },
  "language_info": {
   "codemirror_mode": {
    "name": "ipython",
    "version": 3
   },
   "file_extension": ".py",
   "mimetype": "text/x-python",
   "name": "python",
   "nbconvert_exporter": "python",
   "pygments_lexer": "ipython3",
   "version": "3.7.1"
  }
 },
 "nbformat": 4,
 "nbformat_minor": 2
}
