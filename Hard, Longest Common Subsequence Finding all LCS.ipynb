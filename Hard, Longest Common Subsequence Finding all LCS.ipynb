{
 "cells": [
  {
   "cell_type": "markdown",
   "metadata": {},
   "source": [
    "# lookup table -  bottom-up manner, finds LCS -  top-down"
   ]
  },
  {
   "cell_type": "code",
   "execution_count": 3,
   "metadata": {},
   "outputs": [
    {
     "name": "stdout",
     "output_type": "stream",
     "text": [
      "{'BDAB', 'BCAB', 'BCBA'}\n"
     ]
    }
   ],
   "source": [
    "# Function to return all LCS of substrings `X[0…m-1]`, `Y[0…n-1]`\n",
    "def LCS(X, Y, m, n, lookup):\n",
    " \n",
    "    # if the end of either sequence is reached\n",
    "    if m == 0 or n == 0:\n",
    "        # create a list with one empty string and return\n",
    "        return ['']\n",
    " \n",
    "    # if the last character of `X` and `Y` matches\n",
    "    if X[m - 1] == Y[n - 1]:\n",
    " \n",
    "        # ignore the last characters of `X` and `Y` and find all LCS of substring\n",
    "        # `X[0…m-2]`, `Y[0…n-2]` and store it in a list\n",
    "        lcs = LCS(X, Y, m - 1, n - 1, lookup)\n",
    " \n",
    "        # append current character `X[m-1]` or `Y[n-1]`\n",
    "        # to all LCS of substring `X[0…m-2]` and `Y[0…n-2]`\n",
    "        for i in range(len(lcs)):\n",
    "            lcs[i] = lcs[i] + (X[m - 1])\n",
    " \n",
    "        return lcs\n",
    " \n",
    "    # we reach here when the last character of `X` and `Y` don't match\n",
    " \n",
    "    # if a top cell of the current cell has more value than the left cell,\n",
    "    # then ignore the current character of string `X` and find all LCS of\n",
    "    # substring `X[0…m-2]`, `Y[0…n-1]`\n",
    "    if lookup[m - 1][n] > lookup[m][n - 1]:\n",
    "        return LCS(X, Y, m - 1, n, lookup)\n",
    " \n",
    "    # if a left cell of the current cell has more value than the top cell,\n",
    "    # then ignore the current character of string `Y` and find all LCS of\n",
    "    # substring `X[0…m-1]`, `Y[0…n-2]`\n",
    "    if lookup[m][n - 1] > lookup[m - 1][n]:\n",
    "        return LCS(X, Y, m, n - 1, lookup)\n",
    " \n",
    "    # if the top cell has equal value to the left cell, then consider both characters\n",
    " \n",
    "    top = LCS(X, Y, m - 1, n, lookup)\n",
    "    left = LCS(X, Y, m, n - 1, lookup)\n",
    " \n",
    "    # merge two lists and return\n",
    "    return top + left\n",
    " \n",
    "# Function to fill the lookup table by finding the length of LCS\n",
    "# of substring `X` and `Y`\n",
    "def LCSLength(X, Y, lookup):\n",
    " \n",
    "    # fill the lookup table in a bottom-up manner\n",
    "    for i in range(1, len(X) + 1):\n",
    "        for j in range(1, len(Y) + 1):\n",
    "            # if current character of `X` and `Y` matches\n",
    "            if X[i - 1] == Y[j - 1]:\n",
    "                lookup[i][j] = lookup[i - 1][j - 1] + 1\n",
    " \n",
    "            # otherwise, if the current character of `X` and `Y` don't match\n",
    "            else:\n",
    "                lookup[i][j] = max(lookup[i - 1][j], lookup[i][j - 1])\n",
    " \n",
    " \n",
    "# Function to find all LCS of string `X[0…m-1]` and `Y[0…n-1]`\n",
    "def findLCS(X, Y):\n",
    " \n",
    "    # lookup[i][j] stores the length of LCS of substring `X[0…i-1]` and `Y[0…j-1]`\n",
    "    lookup = [[0 for x in range(len(Y) + 1)] for y in range(len(X) + 1)]\n",
    " \n",
    "    # fill lookup table\n",
    "    LCSLength(X, Y, lookup)\n",
    " \n",
    "    # find all the longest common subsequences\n",
    "    lcs = LCS(X, Y, len(X), len(Y), lookup)\n",
    " \n",
    "    # since a list can contain duplicates, \"convert\" it to a set and return\n",
    "    return set(lcs)\n",
    " \n",
    "if __name__ == '__main__':\n",
    " \n",
    "    X = 'ABCBDAB'\n",
    "    Y = 'BDCABA'\n",
    " \n",
    "    lcs = findLCS(X, Y)\n",
    "    print(lcs)\n",
    " "
   ]
  },
  {
   "cell_type": "code",
   "execution_count": null,
   "metadata": {},
   "outputs": [],
   "source": []
  }
 ],
 "metadata": {
  "kernelspec": {
   "display_name": "Python 3",
   "language": "python",
   "name": "python3"
  },
  "language_info": {
   "codemirror_mode": {
    "name": "ipython",
    "version": 3
   },
   "file_extension": ".py",
   "mimetype": "text/x-python",
   "name": "python",
   "nbconvert_exporter": "python",
   "pygments_lexer": "ipython3",
   "version": "3.7.1"
  }
 },
 "nbformat": 4,
 "nbformat_minor": 2
}
