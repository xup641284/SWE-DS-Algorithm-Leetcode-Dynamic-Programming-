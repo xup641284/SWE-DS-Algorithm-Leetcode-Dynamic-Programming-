{
 "cells": [
  {
   "cell_type": "markdown",
   "metadata": {},
   "source": [
    "# top-down approach, O(n)"
   ]
  },
  {
   "cell_type": "code",
   "execution_count": 17,
   "metadata": {},
   "outputs": [
    {
     "name": "stdout",
     "output_type": "stream",
     "text": [
      "{2: 1}\n",
      "{2: 1, 3: 2}\n",
      "{2: 1, 3: 2, 4: 3}\n",
      "{2: 1, 3: 2, 4: 3, 5: 5}\n",
      "{2: 1, 3: 2, 4: 3, 5: 5, 6: 8}\n",
      "{2: 1, 3: 2, 4: 3, 5: 5, 6: 8, 7: 13}\n",
      "{2: 1, 3: 2, 4: 3, 5: 5, 6: 8, 7: 13, 8: 21}\n",
      "21\n"
     ]
    }
   ],
   "source": [
    "# Function to find the n'th Fibonacci number\n",
    "def fib(n, lookup):\n",
    " \n",
    "    if n <= 1:\n",
    "        return n\n",
    " \n",
    "    # if the subproblem is seen for the first time\n",
    "    if n not in lookup:\n",
    "        val = fib(n - 1, lookup) + fib(n - 2, lookup)\n",
    "        lookup[n] = val\n",
    "        print(lookup)\n",
    " \n",
    "    return lookup[n]\n",
    " \n",
    "if __name__ == '__main__':\n",
    " \n",
    "    n = 8\n",
    "    lookup = {}\n",
    " \n",
    "    print(fib(n, lookup))\n",
    " "
   ]
  },
  {
   "cell_type": "markdown",
   "metadata": {},
   "source": [
    "# bottom-up approach, O(n)"
   ]
  },
  {
   "cell_type": "code",
   "execution_count": 15,
   "metadata": {},
   "outputs": [
    {
     "name": "stdout",
     "output_type": "stream",
     "text": [
      "21\n"
     ]
    }
   ],
   "source": [
    "# Function to find n'th Fibonacci number\n",
    "def fib(n):\n",
    " \n",
    "    if n <= 1:\n",
    "        return n\n",
    " \n",
    "    previousFib = 0\n",
    "    currentFib = 1\n",
    " \n",
    "    for i in range(n-1):\n",
    "        newFib = previousFib + currentFib\n",
    "        previousFib = currentFib\n",
    "        currentFib = newFib\n",
    " \n",
    "    return currentFib\n",
    " \n",
    "if __name__ == '__main__':\n",
    " \n",
    "    print(fib(8))\n",
    " \n"
   ]
  },
  {
   "cell_type": "code",
   "execution_count": null,
   "metadata": {},
   "outputs": [],
   "source": []
  }
 ],
 "metadata": {
  "kernelspec": {
   "display_name": "Python 3",
   "language": "python",
   "name": "python3"
  },
  "language_info": {
   "codemirror_mode": {
    "name": "ipython",
    "version": 3
   },
   "file_extension": ".py",
   "mimetype": "text/x-python",
   "name": "python",
   "nbconvert_exporter": "python",
   "pygments_lexer": "ipython3",
   "version": "3.7.1"
  }
 },
 "nbformat": 4,
 "nbformat_minor": 2
}
