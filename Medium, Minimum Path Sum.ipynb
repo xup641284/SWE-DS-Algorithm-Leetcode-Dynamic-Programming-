{
 "cells": [
  {
   "cell_type": "code",
   "execution_count": 1,
   "metadata": {},
   "outputs": [
    {
     "name": "stdout",
     "output_type": "stream",
     "text": [
      "7\n"
     ]
    }
   ],
   "source": [
    "def minPathSum(grid):\n",
    "    if not grid or not grid[0]:\n",
    "        return 0\n",
    "\n",
    "    m, n = len(grid), len(grid[0])\n",
    "    dp = [[0] * n for _ in range(m)]\n",
    "\n",
    "    dp[0][0] = grid[0][0]\n",
    "\n",
    "    for i in range(1, m):\n",
    "        dp[i][0] = dp[i - 1][0] + grid[i][0]\n",
    "\n",
    "    for j in range(1, n):\n",
    "        dp[0][j] = dp[0][j - 1] + grid[0][j]\n",
    "\n",
    "    for i in range(1, m):\n",
    "        for j in range(1, n):\n",
    "            dp[i][j] = min(dp[i - 1][j], dp[i][j - 1]) + grid[i][j]\n",
    "\n",
    "    return dp[m - 1][n - 1]\n",
    "\n",
    "grid = [\n",
    "    [1, 3, 1],\n",
    "    [1, 5, 1],\n",
    "    [4, 2, 1]\n",
    "]\n",
    "result = minPathSum(grid)\n",
    "print(result)  # Output: 7 (minimum path sum: 1 + 3 + 1 + 1 + 1)\n"
   ]
  },
  {
   "cell_type": "code",
   "execution_count": null,
   "metadata": {},
   "outputs": [],
   "source": []
  }
 ],
 "metadata": {
  "kernelspec": {
   "display_name": "Python 3",
   "language": "python",
   "name": "python3"
  },
  "language_info": {
   "codemirror_mode": {
    "name": "ipython",
    "version": 3
   },
   "file_extension": ".py",
   "mimetype": "text/x-python",
   "name": "python",
   "nbconvert_exporter": "python",
   "pygments_lexer": "ipython3",
   "version": "3.7.1"
  }
 },
 "nbformat": 4,
 "nbformat_minor": 2
}
